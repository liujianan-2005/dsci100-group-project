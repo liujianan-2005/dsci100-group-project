{
 "cells": [
  {
   "cell_type": "markdown",
   "id": "65ea5e9c-fabc-4f6c-9f70-98264c11ad50",
   "metadata": {},
   "source": [
    "# Group project\n"
   ]
  },
  {
   "cell_type": "markdown",
   "id": "13cdaf88-4c62-4fbd-a340-dd377eb061d7",
   "metadata": {},
   "source": [
    "### -Title"
   ]
  },
  {
   "cell_type": "markdown",
   "id": "7a80686b-76f3-4fd4-a7b6-13432808c904",
   "metadata": {},
   "source": [
    "### -Introduction"
   ]
  },
  {
   "cell_type": "markdown",
   "id": "ed84fb83-8e77-4d38-8bbf-42c5953e4c49",
   "metadata": {},
   "source": [
    "#### Background"
   ]
  },
  {
   "cell_type": "markdown",
   "id": "af788731-4b83-4038-9a01-7261c71c3c92",
   "metadata": {},
   "source": [
    "A research group in Computer Science at UBC is collecting data about how people play video games. Based on the data set, our group want to know what player characteristics and behaviours are most predictive of subscribing to a game-related newsletter and how do these features differ between various player types. After analysising the data set, we choose to foucus on experience and play hours to each plays to predict they subscribe newsletter or not."
   ]
  },
  {
   "cell_type": "markdown",
   "id": "a58be812-a75d-4703-8bdd-3ed3682a1dc7",
   "metadata": {},
   "source": [
    "#### question"
   ]
  },
  {
   "cell_type": "markdown",
   "id": "cdff9b60-721a-44fb-9313-3a5d7c6e49fd",
   "metadata": {},
   "source": [
    "Can experience and play hours to each player predict an individual subscribes or not in player dataset?"
   ]
  },
  {
   "cell_type": "markdown",
   "id": "2d0d962b-4325-49fa-8822-55ccf3c822e7",
   "metadata": {},
   "source": [
    "#### data description"
   ]
  },
  {
   "cell_type": "markdown",
   "id": "1edd19ae-7737-4b5f-9ca7-5e0c893509ef",
   "metadata": {},
   "source": [
    "(1) the number of observations: 196"
   ]
  },
  {
   "cell_type": "markdown",
   "id": "980cb1e0-eacd-4a5b-95b8-861c52c3566d",
   "metadata": {},
   "source": [
    "(2) content of the data: personal information amd information related to game experience of players"
   ]
  },
  {
   "cell_type": "markdown",
   "id": "f2ef1656-3733-4f51-a211-90d88b43779e",
   "metadata": {},
   "source": [
    "(3) number of variables: 7"
   ]
  },
  {
   "cell_type": "markdown",
   "id": "f3a23494-ce8f-4033-878d-ed7636cd0e60",
   "metadata": {},
   "source": [
    "(4) name and type of variables: experience <chr> (character), subscribe <lgl> (logics), hashedEmail <chr> (character)\n",
    "                            played_hours <dbl> (number),  name <chr> (character),\tgender <chr> (character), Age <dbl> (number)"
   ]
  },
  {
   "cell_type": "markdown",
   "id": "d70dd0ed-9cfc-459b-a10f-25a847718cfc",
   "metadata": {},
   "source": [
    "(5) meaning of each variable:"
   ]
  },
  {
   "cell_type": "markdown",
   "id": "c86921f8-c2a8-4f77-aefb-a70c2aab2eb1",
   "metadata": {},
   "source": [
    "experience: the palyer's previous game experience, their familar levels to game."
   ]
  },
  {
   "cell_type": "markdown",
   "id": "96c94698-e7f0-4ffb-898a-5539965e8110",
   "metadata": {},
   "source": [
    "subscribe: does the player subscribe the game or not"
   ]
  },
  {
   "cell_type": "markdown",
   "id": "be9dff53-894c-4040-8d89-c650cb9b4a06",
   "metadata": {},
   "source": [
    "hashedEmail: the email for further contact "
   ]
  },
  {
   "cell_type": "markdown",
   "id": "8edf335f-9019-4781-bd61-f13674b27e52",
   "metadata": {},
   "source": [
    "play_hours: the hours that each play spend on game (each week)"
   ]
  },
  {
   "cell_type": "markdown",
   "id": "348ce7ea-c0de-426b-b484-e995caaa9d43",
   "metadata": {},
   "source": [
    "### -Methods & Results"
   ]
  },
  {
   "cell_type": "code",
   "execution_count": 4,
   "id": "d48c25d3-c51c-49e0-9936-615cd9ba238d",
   "metadata": {},
   "outputs": [
    {
     "name": "stderr",
     "output_type": "stream",
     "text": [
      "\u001b[1mRows: \u001b[22m\u001b[34m196\u001b[39m \u001b[1mColumns: \u001b[22m\u001b[34m7\u001b[39m\n",
      "\u001b[36m──\u001b[39m \u001b[1mColumn specification\u001b[22m \u001b[36m────────────────────────────────────────────────────────\u001b[39m\n",
      "\u001b[1mDelimiter:\u001b[22m \",\"\n",
      "\u001b[31mchr\u001b[39m (4): experience, hashedEmail, name, gender\n",
      "\u001b[32mdbl\u001b[39m (2): played_hours, Age\n",
      "\u001b[33mlgl\u001b[39m (1): subscribe\n",
      "\n",
      "\u001b[36mℹ\u001b[39m Use `spec()` to retrieve the full column specification for this data.\n",
      "\u001b[36mℹ\u001b[39m Specify the column types or set `show_col_types = FALSE` to quiet this message.\n"
     ]
    },
    {
     "ename": "ERROR",
     "evalue": "Error in initial_split(data, prop = 0.75, strata = subscribe): could not find function \"initial_split\"\n",
     "output_type": "error",
     "traceback": [
      "Error in initial_split(data, prop = 0.75, strata = subscribe): could not find function \"initial_split\"\nTraceback:\n"
     ]
    }
   ],
   "source": [
    "library(tidyverse)\n",
    "\n",
    "raw_data <- read_csv(\"players.csv\")\n",
    "\n",
    "experience_levels <- c(\"Beginner\" = 0, \"Amateur\" = 1, \"Regular\" = 2, \"Veteran\" = 3, \"Pro\" = 4)\n",
    "\n",
    "data <- raw_data |> \n",
    "    select(experience, subscribe, played_hours) |>\n",
    "    mutate(experience = as.numeric(factor(experience, levels = names(experience_levels), labels = experience_levels))) |>\n",
    "    mutate(subscribe = as_factor(subscribe))\n",
    "\n",
    "\n",
    "set.seed(2025)\n",
    "split <- initial_split(data, prop = 0.75, strata = subscribe)\n",
    "train_data <- training(split)\n",
    "test_data <- testing(split)\n",
    "\n",
    "cv_folds <- vfold_cv(train_data, v = 5, strata = subscribe)\n",
    "\n",
    "knn_spec <- nearest_neighbor(neighbors = tune()) |> \n",
    "  set_engine(\"kknn\") |> \n",
    "  set_mode(\"classification\")\n",
    "\n",
    "knn_recipe <- recipe(subscribe ~ experience + played_hours, data = train_data) |> \n",
    "  step_scale(all_predictors())\n",
    "\n",
    "knn_workflow <- workflow() |> \n",
    "  add_recipe(knn_recipe) |> \n",
    "  add_model(knn_spec)\n",
    "\n",
    "knn_grid <- tibble(neighbors = seq(1, 30, by = 1))\n",
    "\n",
    "knn_results <- tune_grid(\n",
    "  knn_workflow,\n",
    "  resamples = cv_folds,\n",
    "  grid = knn_grid,\n",
    "  metrics = metric_set(accuracy))\n",
    "\n",
    "best_k <- knn_results |> select_best(\"accuracy\")\n",
    "best_k\n",
    "\n",
    "\n",
    "\n",
    "\n",
    "final_knn_spec <- nearest_neighbor(neighbors = best_k$neighbors) |> \n",
    "            set_engine(\"kknn\") |> \n",
    "            set_mode(\"classification\")\n",
    "\n",
    "final_knn_workflow <- knn_workflow |> \n",
    "    finalize_workflow(best_k) |> \n",
    "    fit(data = train_data)\n",
    "\n",
    "final_predictions <- predict(final_knn_workflow, new_data = test_data) |> \n",
    "    bind_cols(test_data)\n",
    "\n",
    "conf_matrix <- conf_mat(final_predictions, truth = subscribe, estimate = .pred_class)\n",
    "conf_matrix\n",
    "\n",
    "\n",
    "\n",
    "accuracy_score <- accuracy(final_predictions, truth = subscribe, estimate = .pred_class)\n",
    "accuracy_score"
   ]
  },
  {
   "cell_type": "markdown",
   "id": "815c01ae-9a7e-4362-ba6e-fd0fee8348cf",
   "metadata": {},
   "source": [
    "### -Discussion"
   ]
  },
  {
   "cell_type": "code",
   "execution_count": null,
   "id": "dd8f8b40-e09b-4a84-a17f-a2184255ca02",
   "metadata": {},
   "outputs": [],
   "source": []
  }
 ],
 "metadata": {
  "kernelspec": {
   "display_name": "R",
   "language": "R",
   "name": "ir"
  },
  "language_info": {
   "codemirror_mode": "r",
   "file_extension": ".r",
   "mimetype": "text/x-r-source",
   "name": "R",
   "pygments_lexer": "r",
   "version": "4.3.3"
  }
 },
 "nbformat": 4,
 "nbformat_minor": 5
}
