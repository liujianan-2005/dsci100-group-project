{
 "cells": [
  {
   "cell_type": "markdown",
   "id": "65ea5e9c-fabc-4f6c-9f70-98264c11ad50",
   "metadata": {},
   "source": [
    "# group project\n"
   ]
  },
  {
   "cell_type": "markdown",
   "id": "13cdaf88-4c62-4fbd-a340-dd377eb061d7",
   "metadata": {},
   "source": [
    "### -Title"
   ]
  },
  {
   "cell_type": "markdown",
   "id": "7a80686b-76f3-4fd4-a7b6-13432808c904",
   "metadata": {},
   "source": [
    "### -Introduction"
   ]
  },
  {
   "cell_type": "markdown",
   "id": "be349475-9347-48ae-9481-65ef7df065df",
   "metadata": {},
   "source": [
    "#### Background"
   ]
  },
  {
   "cell_type": "markdown",
   "id": "307bd9f1-4c41-41a8-9e6f-3f544a32be29",
   "metadata": {},
   "source": [
    "#### question"
   ]
  },
  {
   "cell_type": "markdown",
   "id": "1fd72baf-9030-431f-ac07-5c853b3427e7",
   "metadata": {},
   "source": [
    "#### data description"
   ]
  },
  {
   "cell_type": "code",
   "execution_count": null,
   "id": "d48c25d3-c51c-49e0-9936-615cd9ba238d",
   "metadata": {},
   "outputs": [],
   "source": []
  },
  {
   "cell_type": "markdown",
   "id": "348ce7ea-c0de-426b-b484-e995caaa9d43",
   "metadata": {},
   "source": [
    "### -Methods & Results"
   ]
  },
  {
   "cell_type": "markdown",
   "id": "815c01ae-9a7e-4362-ba6e-fd0fee8348cf",
   "metadata": {},
   "source": [
    "### -Discussion"
   ]
  },
  {
   "cell_type": "code",
   "execution_count": null,
   "id": "dd8f8b40-e09b-4a84-a17f-a2184255ca02",
   "metadata": {},
   "outputs": [],
   "source": []
  }
 ],
 "metadata": {
  "kernelspec": {
   "display_name": "R",
   "language": "R",
   "name": "ir"
  },
  "language_info": {
   "codemirror_mode": "r",
   "file_extension": ".r",
   "mimetype": "text/x-r-source",
   "name": "R",
   "pygments_lexer": "r",
   "version": "4.3.3"
  }
 },
 "nbformat": 4,
 "nbformat_minor": 5
}
