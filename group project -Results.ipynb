{
 "cells": [
  {
   "cell_type": "markdown",
   "id": "65ea5e9c-fabc-4f6c-9f70-98264c11ad50",
   "metadata": {},
   "source": [
    "# group project\n"
   ]
  },
  {
   "cell_type": "markdown",
   "id": "13cdaf88-4c62-4fbd-a340-dd377eb061d7",
   "metadata": {},
   "source": [
    "### -Predicting subscription status of plaicraft players"
   ]
  },
  {
   "cell_type": "markdown",
   "id": "7a80686b-76f3-4fd4-a7b6-13432808c904",
   "metadata": {},
   "source": [
    "### -Introduction"
   ]
  },
  {
   "cell_type": "markdown",
   "id": "bb08edfd-df40-49b8-89f7-05d9aa81beea",
   "metadata": {},
   "source": [
    "#### Background"
   ]
  },
  {
   "cell_type": "markdown",
   "id": "d0e0f73a-09d6-40e0-9f79-59e624220adf",
   "metadata": {},
   "source": [
    "A research group in Computer Science at UBC is collecting data about how people play video games. Based on the data set, our group want to know what player characteristics and behaviours are most predictive of subscribing to a game-related newsletter and how do these features differ between various player types. After analysising the data set, we choose to foucus on experience and play hours to each plays to predict they subscribe newsletter or not."
   ]
  },
  {
   "cell_type": "markdown",
   "id": "fffe322e-a0b9-4ac1-881a-eeb81b9f0895",
   "metadata": {},
   "source": [
    "#### question"
   ]
  },
  {
   "cell_type": "markdown",
   "id": "69361b57-8d11-446d-9983-e45e29067a18",
   "metadata": {},
   "source": [
    "Can experience and play hours to each player predict an individual subscribes or not in player dataset?"
   ]
  },
  {
   "cell_type": "markdown",
   "id": "f1c8f12f-d3e0-499c-8937-56197bc662e0",
   "metadata": {},
   "source": [
    "#### data description"
   ]
  },
  {
   "cell_type": "markdown",
   "id": "313361ce-fe68-4497-9906-0ca119df7922",
   "metadata": {},
   "source": [
    "(1) the number of observations: 196"
   ]
  },
  {
   "cell_type": "markdown",
   "id": "d23e472c-775e-47e3-afbd-1015b1d0e8c3",
   "metadata": {},
   "source": [
    "(2) content of the data: personal information amd information related to game experience of players"
   ]
  },
  {
   "cell_type": "markdown",
   "id": "72fd2326-b7c2-48a6-96d8-8cd63e08df65",
   "metadata": {},
   "source": [
    "(3) number of variables: 7"
   ]
  },
  {
   "cell_type": "markdown",
   "id": "d69241bb-c3e2-4302-9f7a-f9d9ef8a3eb6",
   "metadata": {},
   "source": [
    "(4) name and type of variables: experience <chr> (character), subscribe <lgl> (logics), hashedEmail <chr> (character)\n",
    "                            played_hours <dbl> (number),  name <chr> (character),\tgender <chr> (character), Age <dbl> (number)"
   ]
  },
  {
   "cell_type": "markdown",
   "id": "d6879d4e-d60a-4ee3-aa5a-1f51cbec9150",
   "metadata": {},
   "source": [
    "(5) meaning of each variable:"
   ]
  },
  {
   "cell_type": "markdown",
   "id": "f102701b-221b-4551-980a-4ba56def5d2b",
   "metadata": {},
   "source": [
    "experience: the palyer's previous game experience, their familar levels to game."
   ]
  },
  {
   "cell_type": "markdown",
   "id": "6b5f1264-419e-415e-ab6d-b9e60bd083ae",
   "metadata": {},
   "source": [
    "subscribe: does the player subscribe the game or not"
   ]
  },
  {
   "cell_type": "markdown",
   "id": "cd1760d4-cc58-4568-a1ff-fe5950e86806",
   "metadata": {},
   "source": [
    "hashedEmail: the email for further contact "
   ]
  },
  {
   "cell_type": "markdown",
   "id": "fe27ad43-2650-4895-a990-680c69c3432c",
   "metadata": {},
   "source": [
    "play_hours: the hours that each play spend on game (each week)"
   ]
  },
  {
   "cell_type": "markdown",
   "id": "348ce7ea-c0de-426b-b484-e995caaa9d43",
   "metadata": {},
   "source": [
    "### -Methods & Results"
   ]
  },
  {
   "cell_type": "code",
   "execution_count": 1,
   "id": "816b45c8-6301-4909-813e-fb13f82c5dc4",
   "metadata": {},
   "outputs": [
    {
     "name": "stderr",
     "output_type": "stream",
     "text": [
      "── \u001b[1mAttaching core tidyverse packages\u001b[22m ──────────────────────── tidyverse 2.0.0 ──\n",
      "\u001b[32m✔\u001b[39m \u001b[34mdplyr    \u001b[39m 1.1.4     \u001b[32m✔\u001b[39m \u001b[34mreadr    \u001b[39m 2.1.5\n",
      "\u001b[32m✔\u001b[39m \u001b[34mforcats  \u001b[39m 1.0.0     \u001b[32m✔\u001b[39m \u001b[34mstringr  \u001b[39m 1.5.1\n",
      "\u001b[32m✔\u001b[39m \u001b[34mggplot2  \u001b[39m 3.5.1     \u001b[32m✔\u001b[39m \u001b[34mtibble   \u001b[39m 3.2.1\n",
      "\u001b[32m✔\u001b[39m \u001b[34mlubridate\u001b[39m 1.9.3     \u001b[32m✔\u001b[39m \u001b[34mtidyr    \u001b[39m 1.3.1\n",
      "\u001b[32m✔\u001b[39m \u001b[34mpurrr    \u001b[39m 1.0.2     \n",
      "── \u001b[1mConflicts\u001b[22m ────────────────────────────────────────── tidyverse_conflicts() ──\n",
      "\u001b[31m✖\u001b[39m \u001b[34mdplyr\u001b[39m::\u001b[32mfilter()\u001b[39m masks \u001b[34mstats\u001b[39m::filter()\n",
      "\u001b[31m✖\u001b[39m \u001b[34mdplyr\u001b[39m::\u001b[32mlag()\u001b[39m    masks \u001b[34mstats\u001b[39m::lag()\n",
      "\u001b[36mℹ\u001b[39m Use the conflicted package (\u001b[3m\u001b[34m<http://conflicted.r-lib.org/>\u001b[39m\u001b[23m) to force all conflicts to become errors\n",
      "── \u001b[1mAttaching packages\u001b[22m ────────────────────────────────────── tidymodels 1.1.1 ──\n",
      "\n",
      "\u001b[32m✔\u001b[39m \u001b[34mbroom       \u001b[39m 1.0.6     \u001b[32m✔\u001b[39m \u001b[34mrsample     \u001b[39m 1.2.1\n",
      "\u001b[32m✔\u001b[39m \u001b[34mdials       \u001b[39m 1.3.0     \u001b[32m✔\u001b[39m \u001b[34mtune        \u001b[39m 1.1.2\n",
      "\u001b[32m✔\u001b[39m \u001b[34minfer       \u001b[39m 1.0.7     \u001b[32m✔\u001b[39m \u001b[34mworkflows   \u001b[39m 1.1.4\n",
      "\u001b[32m✔\u001b[39m \u001b[34mmodeldata   \u001b[39m 1.4.0     \u001b[32m✔\u001b[39m \u001b[34mworkflowsets\u001b[39m 1.0.1\n",
      "\u001b[32m✔\u001b[39m \u001b[34mparsnip     \u001b[39m 1.2.1     \u001b[32m✔\u001b[39m \u001b[34myardstick   \u001b[39m 1.3.1\n",
      "\u001b[32m✔\u001b[39m \u001b[34mrecipes     \u001b[39m 1.1.0     \n",
      "\n",
      "── \u001b[1mConflicts\u001b[22m ───────────────────────────────────────── tidymodels_conflicts() ──\n",
      "\u001b[31m✖\u001b[39m \u001b[34mscales\u001b[39m::\u001b[32mdiscard()\u001b[39m masks \u001b[34mpurrr\u001b[39m::discard()\n",
      "\u001b[31m✖\u001b[39m \u001b[34mdplyr\u001b[39m::\u001b[32mfilter()\u001b[39m   masks \u001b[34mstats\u001b[39m::filter()\n",
      "\u001b[31m✖\u001b[39m \u001b[34mrecipes\u001b[39m::\u001b[32mfixed()\u001b[39m  masks \u001b[34mstringr\u001b[39m::fixed()\n",
      "\u001b[31m✖\u001b[39m \u001b[34mdplyr\u001b[39m::\u001b[32mlag()\u001b[39m      masks \u001b[34mstats\u001b[39m::lag()\n",
      "\u001b[31m✖\u001b[39m \u001b[34myardstick\u001b[39m::\u001b[32mspec()\u001b[39m masks \u001b[34mreadr\u001b[39m::spec()\n",
      "\u001b[31m✖\u001b[39m \u001b[34mrecipes\u001b[39m::\u001b[32mstep()\u001b[39m   masks \u001b[34mstats\u001b[39m::step()\n",
      "\u001b[34m•\u001b[39m Dig deeper into tidy modeling with R at \u001b[32mhttps://www.tmwr.org\u001b[39m\n",
      "\n",
      "\u001b[1mRows: \u001b[22m\u001b[34m196\u001b[39m \u001b[1mColumns: \u001b[22m\u001b[34m7\u001b[39m\n",
      "\u001b[36m──\u001b[39m \u001b[1mColumn specification\u001b[22m \u001b[36m────────────────────────────────────────────────────────\u001b[39m\n",
      "\u001b[1mDelimiter:\u001b[22m \",\"\n",
      "\u001b[31mchr\u001b[39m (4): experience, hashedEmail, name, gender\n",
      "\u001b[32mdbl\u001b[39m (2): played_hours, Age\n",
      "\u001b[33mlgl\u001b[39m (1): subscribe\n",
      "\n",
      "\u001b[36mℹ\u001b[39m Use `spec()` to retrieve the full column specification for this data.\n",
      "\u001b[36mℹ\u001b[39m Specify the column types or set `show_col_types = FALSE` to quiet this message.\n"
     ]
    }
   ],
   "source": [
    "library(tidyverse)\n",
    "library(tidymodels)\n",
    "#Required packages.\n",
    "\n",
    "raw_data <- read_csv(\"players.csv\") #Loads data set.\n",
    "\n",
    "experience_levels <- c(\"Beginner\" = 0, \"Amateur\" = 1, \"Regular\" = 2, \"Veteran\" = 3, \"Pro\" = 4)\n",
    "   #Quantifies the experience levels from 0-4 \n",
    "     #(Although experience is ordinal, we will assume interval relationship).\n",
    "\n",
    "data <- raw_data |> \n",
    "    select(experience, subscribe, played_hours) |>\n",
    "    mutate(experience = as.numeric(factor(experience, levels = names(experience_levels), labels = experience_levels))) |>\n",
    "    mutate(subscribe = as_factor(subscribe))\n",
    "        #Modifies the database to ensure all columns is the correct type.\n",
    "\n",
    "set.seed(20) #Sets a seed so that randomness is the same across attempts.\n",
    "split <- initial_split(data, prop = 0.75, strata = subscribe)\n",
    "train_data <- training(split)\n",
    "test_data <- testing(split)\n",
    "#Splits the original data to train and test our model."
   ]
  },
  {
   "cell_type": "code",
   "execution_count": 2,
   "id": "d815d448-3f73-4e76-8cf9-4525c5cd0e60",
   "metadata": {},
   "outputs": [
    {
     "data": {
      "text/html": [
       "<table class=\"dataframe\">\n",
       "<caption>A tibble: 1 × 2</caption>\n",
       "<thead>\n",
       "\t<tr><th scope=col>neighbors</th><th scope=col>.config</th></tr>\n",
       "\t<tr><th scope=col>&lt;dbl&gt;</th><th scope=col>&lt;chr&gt;</th></tr>\n",
       "</thead>\n",
       "<tbody>\n",
       "\t<tr><td>28</td><td>Preprocessor1_Model28</td></tr>\n",
       "</tbody>\n",
       "</table>\n"
      ],
      "text/latex": [
       "A tibble: 1 × 2\n",
       "\\begin{tabular}{ll}\n",
       " neighbors & .config\\\\\n",
       " <dbl> & <chr>\\\\\n",
       "\\hline\n",
       "\t 28 & Preprocessor1\\_Model28\\\\\n",
       "\\end{tabular}\n"
      ],
      "text/markdown": [
       "\n",
       "A tibble: 1 × 2\n",
       "\n",
       "| neighbors &lt;dbl&gt; | .config &lt;chr&gt; |\n",
       "|---|---|\n",
       "| 28 | Preprocessor1_Model28 |\n",
       "\n"
      ],
      "text/plain": [
       "  neighbors .config              \n",
       "1 28        Preprocessor1_Model28"
      ]
     },
     "metadata": {},
     "output_type": "display_data"
    }
   ],
   "source": [
    "cv_folds <- vfold_cv(train_data, v = 5, strata = subscribe)\n",
    "\n",
    "knn_spec <- nearest_neighbor(neighbors = tune()) |> \n",
    "  set_engine(\"kknn\") |> \n",
    "  set_mode(\"classification\")\n",
    "#Creates the model we will like to train.\n",
    "\n",
    "knn_recipe <- recipe(subscribe ~ experience + played_hours, data = train_data) |> \n",
    "  step_scale(all_predictors())\n",
    "#Scales predictors so that each predictor holds equal weight on determining subsription status.\n",
    "\n",
    "knn_workflow <- workflow() |> \n",
    "  add_recipe(knn_recipe) |> \n",
    "  add_model(knn_spec)\n",
    "\n",
    "knn_grid <- tibble(neighbors = seq(1, 30, by = 1))\n",
    "#Creates a new column that will allow R to assign accuracy for each tested K to find best K.\n",
    "\n",
    "knn_results <- tune_grid(\n",
    "  knn_workflow,\n",
    "  resamples = cv_folds,\n",
    "  grid = knn_grid,\n",
    "  metrics = metric_set(accuracy))\n",
    "\n",
    "best_k <- knn_results |> select_best(\"accuracy\")\n",
    "best_k\n",
    "#Identifies the best K-value."
   ]
  },
  {
   "cell_type": "code",
   "execution_count": 3,
   "id": "0ac8c44e-ce59-442e-9e9e-b629b6bd7572",
   "metadata": {},
   "outputs": [
    {
     "data": {
      "text/plain": [
       "          Truth\n",
       "Prediction FALSE TRUE\n",
       "     FALSE     1    3\n",
       "     TRUE     12   33"
      ]
     },
     "metadata": {},
     "output_type": "display_data"
    },
    {
     "data": {
      "text/html": [
       "<table class=\"dataframe\">\n",
       "<caption>A tibble: 1 × 3</caption>\n",
       "<thead>\n",
       "\t<tr><th scope=col>.metric</th><th scope=col>.estimator</th><th scope=col>.estimate</th></tr>\n",
       "\t<tr><th scope=col>&lt;chr&gt;</th><th scope=col>&lt;chr&gt;</th><th scope=col>&lt;dbl&gt;</th></tr>\n",
       "</thead>\n",
       "<tbody>\n",
       "\t<tr><td>accuracy</td><td>binary</td><td>0.6938776</td></tr>\n",
       "</tbody>\n",
       "</table>\n"
      ],
      "text/latex": [
       "A tibble: 1 × 3\n",
       "\\begin{tabular}{lll}\n",
       " .metric & .estimator & .estimate\\\\\n",
       " <chr> & <chr> & <dbl>\\\\\n",
       "\\hline\n",
       "\t accuracy & binary & 0.6938776\\\\\n",
       "\\end{tabular}\n"
      ],
      "text/markdown": [
       "\n",
       "A tibble: 1 × 3\n",
       "\n",
       "| .metric &lt;chr&gt; | .estimator &lt;chr&gt; | .estimate &lt;dbl&gt; |\n",
       "|---|---|---|\n",
       "| accuracy | binary | 0.6938776 |\n",
       "\n"
      ],
      "text/plain": [
       "  .metric  .estimator .estimate\n",
       "1 accuracy binary     0.6938776"
      ]
     },
     "metadata": {},
     "output_type": "display_data"
    }
   ],
   "source": [
    "final_knn_spec <- nearest_neighbor(neighbors = best_k$neighbors) |> \n",
    "            set_engine(\"kknn\") |> \n",
    "            set_mode(\"classification\")\n",
    "#Creates the final model based on the optimal number of neighbours we should use.\n",
    "\n",
    "final_knn_workflow <- knn_workflow |> \n",
    "    finalize_workflow(best_k) |> \n",
    "    fit(data = train_data)\n",
    "\n",
    "final_predictions <- predict(final_knn_workflow, new_data = test_data) |> \n",
    "    bind_cols(test_data)\n",
    "#Uses the testing set created earlier to determine the accuracy of the model.\n",
    "\n",
    "conf_matrix <- conf_mat(final_predictions, truth = subscribe, estimate = .pred_class)\n",
    "conf_matrix\n",
    "#Prints a table that shows the results of the test.\n",
    "\n",
    "\n",
    "accuracy_score <- accuracy(final_predictions, truth = subscribe, estimate = .pred_class)\n",
    "accuracy_score\n",
    "#Prints out the accuracy of the model based on the results."
   ]
  },
  {
   "cell_type": "markdown",
   "id": "063b4357-dd64-43f8-a658-16bf0181a640",
   "metadata": {},
   "source": [
    "A code is written to develop an engine that will predict the subsription status of a new individual based on its standardized experience level and hours played. The first step of the code is to download necessary packages and the database itself. This is then followed by modifying the database into a format that will allow us to effectively create a model. This includes mutating experience levels into an interval scale and change the type of data the columns are. Before traning the model, we split the original database into two, 75% traning and 25% testing. \n",
    "To train the model, we use cross-validation from the traning set to find the best K-value that will five us the best accuracy. This step involves spliting the testing set into more splits.\n",
    "Finally, once the optimal K-value is found, we use the testing set to test the accuracy of the model.\n",
    "\n",
    "By training the model, we found that a K-value of 28 is optimal. This suggests that we are most likely to correctly identify an individual's subscription status using which status appears most often when using 28 of its nearest neighbours. Additionally, our test gave an accuracy of 69%. This suggests that, although our model can correctly predict an individual's status majority of the time, there is still 31% chance it will predict incorrectly."
   ]
  },
  {
   "cell_type": "markdown",
   "id": "815c01ae-9a7e-4362-ba6e-fd0fee8348cf",
   "metadata": {},
   "source": [
    "### -Discussion"
   ]
  },
  {
   "cell_type": "markdown",
   "id": "4a96a7b7-c59a-4d71-95cd-06fcb9f50dd2",
   "metadata": {},
   "source": [
    "We found that the best k value is 28 because it shows the highest accuracy in cross-validation in training data. And we get the accuracy in testing data when k is equal to 29 is 69%. It means that KNN classification model can correctly classify 69% of the plater data using experience and play hours."
   ]
  },
  {
   "cell_type": "markdown",
   "id": "77780224-e3a2-4d74-98f8-40cc7c72e81e",
   "metadata": {},
   "source": [
    "An accuracy of 69% is decent, but it does not indicate a strong association, as there is still a 30% margin for improvement.It is a little bit lower than we expect but it is acceptable. It indicates that experience and play hours are effective predictors of whether the majority of players subscribe to game newsletters. "
   ]
  },
  {
   "cell_type": "markdown",
   "id": "5328b8fd-3499-4288-97bb-b68d29c3717c",
   "metadata": {},
   "source": [
    "Based on our finding, we are able to predict a player subscribe game newsletters or not just know their play hours in game each week and their previous game related experience in furture."
   ]
  },
  {
   "cell_type": "markdown",
   "id": "2a029560-d3f8-4421-a23b-5bc192ca80d6",
   "metadata": {},
   "source": [
    "We categorize experience into different numerical levels and used as a predictorin our classification model. Rather than scalling experience levels in an interval scale, meaning there is an equal distance between each experience level, future models and attempt to design a method that better seperates experience to better represent the true difference between levels"
   ]
  }
 ],
 "metadata": {
  "kernelspec": {
   "display_name": "R",
   "language": "R",
   "name": "ir"
  },
  "language_info": {
   "codemirror_mode": "r",
   "file_extension": ".r",
   "mimetype": "text/x-r-source",
   "name": "R",
   "pygments_lexer": "r",
   "version": "4.3.3"
  }
 },
 "nbformat": 4,
 "nbformat_minor": 5
}
